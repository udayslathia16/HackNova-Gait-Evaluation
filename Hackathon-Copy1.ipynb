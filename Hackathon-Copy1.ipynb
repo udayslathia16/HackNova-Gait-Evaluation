{
 "cells": [
  {
   "cell_type": "markdown",
   "metadata": {
    "id": "JUU-R7a-s7Sb"
   },
   "source": [
    "# Model Training\n",
    "\n",
    "## Thyroid Disease Detection: Single Input Prediction"
   ]
  },
  {
   "cell_type": "code",
   "execution_count": 129,
   "metadata": {
    "id": "Xe6a3IG-tEKk"
   },
   "outputs": [],
   "source": [
    "import pandas as pd\n",
    "import numpy as np\n",
    "import pickle\n",
    "\n",
    "import warnings\n",
    "warnings.filterwarnings(\"ignore\")"
   ]
  },
  {
   "cell_type": "code",
   "execution_count": 130,
   "metadata": {
    "colab": {
     "base_uri": "https://localhost:8080/",
     "height": 224
    },
    "id": "hj25fQoOtp9F",
    "outputId": "513fd4c1-0985-4bcb-c90a-41e146fd309a"
   },
   "outputs": [
    {
     "data": {
      "text/html": [
       "<div>\n",
       "<style scoped>\n",
       "    .dataframe tbody tr th:only-of-type {\n",
       "        vertical-align: middle;\n",
       "    }\n",
       "\n",
       "    .dataframe tbody tr th {\n",
       "        vertical-align: top;\n",
       "    }\n",
       "\n",
       "    .dataframe thead th {\n",
       "        text-align: right;\n",
       "    }\n",
       "</style>\n",
       "<table border=\"1\" class=\"dataframe\">\n",
       "  <thead>\n",
       "    <tr style=\"text-align: right;\">\n",
       "      <th></th>\n",
       "      <th>Age</th>\n",
       "      <th>Gender</th>\n",
       "      <th>StrideLength</th>\n",
       "      <th>StrideDuration</th>\n",
       "      <th>GaitCondition</th>\n",
       "    </tr>\n",
       "  </thead>\n",
       "  <tbody>\n",
       "    <tr>\n",
       "      <th>0</th>\n",
       "      <td>45</td>\n",
       "      <td>Male</td>\n",
       "      <td>70</td>\n",
       "      <td>1.2</td>\n",
       "      <td>Normal</td>\n",
       "    </tr>\n",
       "    <tr>\n",
       "      <th>1</th>\n",
       "      <td>55</td>\n",
       "      <td>Male</td>\n",
       "      <td>75</td>\n",
       "      <td>1.8</td>\n",
       "      <td>Hypotonic</td>\n",
       "    </tr>\n",
       "    <tr>\n",
       "      <th>2</th>\n",
       "      <td>50</td>\n",
       "      <td>Female</td>\n",
       "      <td>72</td>\n",
       "      <td>1.1</td>\n",
       "      <td>Normal</td>\n",
       "    </tr>\n",
       "    <tr>\n",
       "      <th>3</th>\n",
       "      <td>60</td>\n",
       "      <td>Male</td>\n",
       "      <td>65</td>\n",
       "      <td>1.1</td>\n",
       "      <td>Hypertonic</td>\n",
       "    </tr>\n",
       "    <tr>\n",
       "      <th>4</th>\n",
       "      <td>35</td>\n",
       "      <td>Male</td>\n",
       "      <td>70</td>\n",
       "      <td>1.3</td>\n",
       "      <td>Normal</td>\n",
       "    </tr>\n",
       "  </tbody>\n",
       "</table>\n",
       "</div>"
      ],
      "text/plain": [
       "   Age  Gender  StrideLength  StrideDuration GaitCondition\n",
       "0   45    Male            70             1.2        Normal\n",
       "1   55    Male            75             1.8     Hypotonic\n",
       "2   50  Female            72             1.1        Normal\n",
       "3   60    Male            65             1.1    Hypertonic\n",
       "4   35    Male            70             1.3        Normal"
      ]
     },
     "execution_count": 130,
     "metadata": {},
     "output_type": "execute_result"
    }
   ],
   "source": [
    "data = pd.read_csv(\"C:\\\\Users\\\\sunny\\\\Downloads\\\\Gait dataset 2.csv\")\n",
    "data.head()"
   ]
  },
  {
   "cell_type": "code",
   "execution_count": 131,
   "metadata": {
    "colab": {
     "base_uri": "https://localhost:8080/"
    },
    "id": "uMw-Eu_9t9bo",
    "outputId": "065f961e-896e-492d-d436-9bb6a63e0d63"
   },
   "outputs": [
    {
     "data": {
      "text/plain": [
       "Index(['Age', 'Gender', 'StrideLength', 'StrideDuration', 'GaitCondition'], dtype='object')"
      ]
     },
     "execution_count": 131,
     "metadata": {},
     "output_type": "execute_result"
    }
   ],
   "source": [
    "data.columns"
   ]
  },
  {
   "cell_type": "code",
   "execution_count": 133,
   "metadata": {
    "id": "nQsp3V5wuPe5"
   },
   "outputs": [],
   "source": [
    "selected_col = ['Age', 'Gender', 'StrideLength', 'StrideDuration', 'GaitCondition']"
   ]
  },
  {
   "cell_type": "code",
   "execution_count": 134,
   "metadata": {
    "id": "Lu6JL5Tlu_Jc"
   },
   "outputs": [],
   "source": [
    "df = data.copy()\n",
    "\n",
    "df = df[selected_col]"
   ]
  },
  {
   "cell_type": "code",
   "execution_count": 135,
   "metadata": {
    "colab": {
     "base_uri": "https://localhost:8080/",
     "height": 204
    },
    "id": "gIiwHQivvISN",
    "outputId": "492ebe41-9a3b-4869-d5a9-8d4d0f69aa32"
   },
   "outputs": [
    {
     "data": {
      "text/html": [
       "<div>\n",
       "<style scoped>\n",
       "    .dataframe tbody tr th:only-of-type {\n",
       "        vertical-align: middle;\n",
       "    }\n",
       "\n",
       "    .dataframe tbody tr th {\n",
       "        vertical-align: top;\n",
       "    }\n",
       "\n",
       "    .dataframe thead th {\n",
       "        text-align: right;\n",
       "    }\n",
       "</style>\n",
       "<table border=\"1\" class=\"dataframe\">\n",
       "  <thead>\n",
       "    <tr style=\"text-align: right;\">\n",
       "      <th></th>\n",
       "      <th>Age</th>\n",
       "      <th>Gender</th>\n",
       "      <th>StrideLength</th>\n",
       "      <th>StrideDuration</th>\n",
       "      <th>GaitCondition</th>\n",
       "    </tr>\n",
       "  </thead>\n",
       "  <tbody>\n",
       "    <tr>\n",
       "      <th>0</th>\n",
       "      <td>45</td>\n",
       "      <td>Male</td>\n",
       "      <td>70</td>\n",
       "      <td>1.2</td>\n",
       "      <td>Normal</td>\n",
       "    </tr>\n",
       "    <tr>\n",
       "      <th>1</th>\n",
       "      <td>55</td>\n",
       "      <td>Male</td>\n",
       "      <td>75</td>\n",
       "      <td>1.8</td>\n",
       "      <td>Hypotonic</td>\n",
       "    </tr>\n",
       "    <tr>\n",
       "      <th>2</th>\n",
       "      <td>50</td>\n",
       "      <td>Female</td>\n",
       "      <td>72</td>\n",
       "      <td>1.1</td>\n",
       "      <td>Normal</td>\n",
       "    </tr>\n",
       "    <tr>\n",
       "      <th>3</th>\n",
       "      <td>60</td>\n",
       "      <td>Male</td>\n",
       "      <td>65</td>\n",
       "      <td>1.1</td>\n",
       "      <td>Hypertonic</td>\n",
       "    </tr>\n",
       "    <tr>\n",
       "      <th>4</th>\n",
       "      <td>35</td>\n",
       "      <td>Male</td>\n",
       "      <td>70</td>\n",
       "      <td>1.3</td>\n",
       "      <td>Normal</td>\n",
       "    </tr>\n",
       "    <tr>\n",
       "      <th>5</th>\n",
       "      <td>40</td>\n",
       "      <td>Female</td>\n",
       "      <td>67</td>\n",
       "      <td>1.4</td>\n",
       "      <td>Hypertonic</td>\n",
       "    </tr>\n",
       "    <tr>\n",
       "      <th>6</th>\n",
       "      <td>65</td>\n",
       "      <td>Male</td>\n",
       "      <td>75</td>\n",
       "      <td>1.0</td>\n",
       "      <td>Normal</td>\n",
       "    </tr>\n",
       "    <tr>\n",
       "      <th>7</th>\n",
       "      <td>48</td>\n",
       "      <td>Female</td>\n",
       "      <td>64</td>\n",
       "      <td>1.7</td>\n",
       "      <td>Hypertonic</td>\n",
       "    </tr>\n",
       "    <tr>\n",
       "      <th>8</th>\n",
       "      <td>58</td>\n",
       "      <td>Male</td>\n",
       "      <td>71</td>\n",
       "      <td>1.2</td>\n",
       "      <td>Normal</td>\n",
       "    </tr>\n",
       "    <tr>\n",
       "      <th>9</th>\n",
       "      <td>42</td>\n",
       "      <td>Female</td>\n",
       "      <td>66</td>\n",
       "      <td>1.5</td>\n",
       "      <td>Hypotonic</td>\n",
       "    </tr>\n",
       "    <tr>\n",
       "      <th>10</th>\n",
       "      <td>55</td>\n",
       "      <td>Female</td>\n",
       "      <td>64</td>\n",
       "      <td>1.7</td>\n",
       "      <td>Hypertonic</td>\n",
       "    </tr>\n",
       "    <tr>\n",
       "      <th>11</th>\n",
       "      <td>70</td>\n",
       "      <td>Male</td>\n",
       "      <td>68</td>\n",
       "      <td>1.3</td>\n",
       "      <td>Hypotonic</td>\n",
       "    </tr>\n",
       "    <tr>\n",
       "      <th>12</th>\n",
       "      <td>72</td>\n",
       "      <td>Female</td>\n",
       "      <td>67</td>\n",
       "      <td>1.4</td>\n",
       "      <td>Hypertonic</td>\n",
       "    </tr>\n",
       "    <tr>\n",
       "      <th>13</th>\n",
       "      <td>66</td>\n",
       "      <td>Male</td>\n",
       "      <td>70</td>\n",
       "      <td>1.2</td>\n",
       "      <td>Normal</td>\n",
       "    </tr>\n",
       "    <tr>\n",
       "      <th>14</th>\n",
       "      <td>38</td>\n",
       "      <td>Female</td>\n",
       "      <td>65</td>\n",
       "      <td>1.5</td>\n",
       "      <td>Hypotonic</td>\n",
       "    </tr>\n",
       "    <tr>\n",
       "      <th>15</th>\n",
       "      <td>59</td>\n",
       "      <td>Female</td>\n",
       "      <td>72</td>\n",
       "      <td>1.1</td>\n",
       "      <td>Normal</td>\n",
       "    </tr>\n",
       "    <tr>\n",
       "      <th>16</th>\n",
       "      <td>68</td>\n",
       "      <td>Male</td>\n",
       "      <td>63</td>\n",
       "      <td>1.6</td>\n",
       "      <td>Hypertonic</td>\n",
       "    </tr>\n",
       "    <tr>\n",
       "      <th>17</th>\n",
       "      <td>45</td>\n",
       "      <td>Male</td>\n",
       "      <td>68</td>\n",
       "      <td>1.3</td>\n",
       "      <td>Normal</td>\n",
       "    </tr>\n",
       "    <tr>\n",
       "      <th>18</th>\n",
       "      <td>46</td>\n",
       "      <td>Female</td>\n",
       "      <td>67</td>\n",
       "      <td>1.4</td>\n",
       "      <td>Hypertonic</td>\n",
       "    </tr>\n",
       "    <tr>\n",
       "      <th>19</th>\n",
       "      <td>76</td>\n",
       "      <td>Male</td>\n",
       "      <td>75</td>\n",
       "      <td>1.0</td>\n",
       "      <td>Normal</td>\n",
       "    </tr>\n",
       "  </tbody>\n",
       "</table>\n",
       "</div>"
      ],
      "text/plain": [
       "    Age  Gender  StrideLength  StrideDuration GaitCondition\n",
       "0    45    Male            70             1.2        Normal\n",
       "1    55    Male            75             1.8     Hypotonic\n",
       "2    50  Female            72             1.1        Normal\n",
       "3    60    Male            65             1.1    Hypertonic\n",
       "4    35    Male            70             1.3        Normal\n",
       "5    40  Female            67             1.4    Hypertonic\n",
       "6    65    Male            75             1.0        Normal\n",
       "7    48  Female            64             1.7    Hypertonic\n",
       "8    58    Male            71             1.2        Normal\n",
       "9    42  Female            66             1.5     Hypotonic\n",
       "10   55  Female            64             1.7    Hypertonic\n",
       "11   70    Male            68             1.3     Hypotonic\n",
       "12   72  Female            67             1.4    Hypertonic\n",
       "13   66    Male            70             1.2        Normal\n",
       "14   38  Female            65             1.5     Hypotonic\n",
       "15   59  Female            72             1.1        Normal\n",
       "16   68    Male            63             1.6    Hypertonic\n",
       "17   45    Male            68             1.3        Normal\n",
       "18   46  Female            67             1.4    Hypertonic\n",
       "19   76    Male            75             1.0        Normal"
      ]
     },
     "execution_count": 135,
     "metadata": {},
     "output_type": "execute_result"
    }
   ],
   "source": [
    "df.head(20)"
   ]
  },
  {
   "cell_type": "code",
   "execution_count": 136,
   "metadata": {},
   "outputs": [
    {
     "data": {
      "image/png": "[encoded data removed]",
      "text/plain": [
       "<Figure size 720x432 with 1 Axes>"
      ]
     },
     "metadata": {
      "needs_background": "light"
     },
     "output_type": "display_data"
    }
   ],
   "source": [
    "import seaborn as sns\n",
    "import matplotlib.pyplot as plt\n",
    "\n",
    "plt.figure(figsize=(10, 6))\n",
    "sns.countplot(df['GaitCondition'])\n",
    "plt.show()"
   ]
  },
  {
   "cell_type": "code",
   "execution_count": 137,
   "metadata": {},
   "outputs": [
    {
     "data": {
      "image/png": "[encoded data removed]",
      "text/plain": [
       "<Figure size 432x288 with 1 Axes>"
      ]
     },
     "metadata": {
      "needs_background": "light"
     },
     "output_type": "display_data"
    }
   ],
   "source": [
    "sns.countplot(df['Gender'])\n",
    "\n",
    "plt.show()"
   ]
  },
  {
   "cell_type": "code",
   "execution_count": null,
   "metadata": {},
   "outputs": [],
   "source": []
  },
  {
   "cell_type": "code",
   "execution_count": 138,
   "metadata": {
    "colab": {
     "base_uri": "https://localhost:8080/"
    },
    "id": "5Kmg8Y02vJsG",
    "outputId": "6fa6e96a-9c29-4745-c962-b88a9430e682"
   },
   "outputs": [
    {
     "name": "stdout",
     "output_type": "stream",
     "text": [
      "<class 'pandas.core.frame.DataFrame'>\n",
      "RangeIndex: 135 entries, 0 to 134\n",
      "Data columns (total 5 columns):\n",
      " #   Column          Non-Null Count  Dtype  \n",
      "---  ------          --------------  -----  \n",
      " 0   Age             135 non-null    int64  \n",
      " 1   Gender          135 non-null    object \n",
      " 2   StrideLength    135 non-null    int64  \n",
      " 3   StrideDuration  135 non-null    float64\n",
      " 4   GaitCondition   135 non-null    object \n",
      "dtypes: float64(1), int64(2), object(2)\n",
      "memory usage: 5.4+ KB\n"
     ]
    }
   ],
   "source": [
    "df.info()"
   ]
  },
  {
   "cell_type": "markdown",
   "metadata": {
    "id": "OFDTHONrvuI8"
   },
   "source": [
    "# Checking number of invalid value like '?' present in each column\n"
   ]
  },
  {
   "cell_type": "code",
   "execution_count": 10,
   "metadata": {
    "colab": {
     "base_uri": "https://localhost:8080/"
    },
    "id": "WD0ucKZ1vPop",
    "outputId": "b8b7350d-db84-48e6-ac6c-1c11104df875"
   },
   "outputs": [
    {
     "data": {
      "image/png": "[encoded data removed]",
      "text/plain": [
       "<Figure size 432x288 with 1 Axes>"
      ]
     },
     "metadata": {
      "needs_background": "light"
     },
     "output_type": "display_data"
    }
   ],
   "source": [
    "import matplotlib.pyplot as plt\n",
    "\n",
    "# Your existing code\n",
    "for column in df.columns:\n",
    "    count = df[column][df[column]=='?'].count()\n",
    "    if count != 0:\n",
    "        print(column, count)\n",
    "\n",
    "# Create lists to store column names and their corresponding counts\n",
    "columns_with_question = []\n",
    "question_counts = []\n",
    "\n",
    "# Iterate over columns again to populate lists\n",
    "for column in df.columns:\n",
    "    count = df[column][df[column]=='?'].count()\n",
    "    if count != 0:\n",
    "        columns_with_question.append(column)\n",
    "        question_counts.append(count)\n",
    "\n",
    "# Plotting\n",
    "plt.figure(figsize=(6, 4))\n",
    "plt.bar(columns_with_question, question_counts, color='skyblue')\n",
    "plt.xlabel('Columns')\n",
    "plt.ylabel('Count of \"?\"')\n",
    "plt.title('Count of \"?\" in each Column')\n",
    "plt.xticks(rotation=45, ha='right')\n",
    "plt.tight_layout()\n",
    "plt.show()"
   ]
  },
  {
   "cell_type": "markdown",
   "metadata": {
    "id": "56VIBvQRvzB3"
   },
   "source": [
    "# Now let's replace the '?' values with numpy nan"
   ]
  },
  {
   "cell_type": "code",
   "execution_count": 11,
   "metadata": {
    "id": "SmOy4502vYmW"
   },
   "outputs": [],
   "source": [
    "for column in df.columns:\n",
    "    count = df[column][df[column]=='?'].count()\n",
    "    if count!=0:\n",
    "        df[column] = df[column].replace('?',np.nan)"
   ]
  },
  {
   "cell_type": "code",
   "execution_count": 12,
   "metadata": {},
   "outputs": [
    {
     "data": {
      "image/png": "[encoded data removed]",
      "text/plain": [
       "<Figure size 432x288 with 1 Axes>"
      ]
     },
     "metadata": {
      "needs_background": "light"
     },
     "output_type": "display_data"
    }
   ],
   "source": [
    "import matplotlib.pyplot as plt\n",
    "\n",
    "# Your existing code\n",
    "for column in df.columns:\n",
    "    count = df[column][df[column]=='?'].count()\n",
    "    if count != 0:\n",
    "        print(column, count)\n",
    "\n",
    "# Create lists to store column names and their corresponding counts\n",
    "columns_with_question = []\n",
    "question_counts = []\n",
    "\n",
    "# Iterate over columns again to populate lists\n",
    "for column in df.columns:\n",
    "    count = df[column][df[column]=='?'].count()\n",
    "    if count != 0:\n",
    "        columns_with_question.append(column)\n",
    "        question_counts.append(count)\n",
    "\n",
    "# Plotting\n",
    "plt.figure(figsize=(6, 4))\n",
    "plt.bar(columns_with_question, question_counts, color='skyblue')\n",
    "plt.xlabel('TSH                         T3                      TT4')\n",
    "plt.ylabel('Count of \"?\"')\n",
    "plt.title('Count of \"?\" in each Column')\n",
    "plt.xticks(rotation=45, ha='right')\n",
    "plt.tight_layout()\n",
    "plt.show()"
   ]
  },
  {
   "cell_type": "code",
   "execution_count": 13,
   "metadata": {
    "colab": {
     "base_uri": "https://localhost:8080/"
    },
    "id": "YBg4D4m6wLZ5",
    "outputId": "dd8eed39-86ac-4752-e6bc-be922ac57936"
   },
   "outputs": [
    {
     "name": "stdout",
     "output_type": "stream",
     "text": [
      "Age 0\n",
      "Gender 0\n",
      "Stride length (cm) 0\n",
      "Stride Duration(s) 0\n",
      "Gait Condition 0\n"
     ]
    }
   ],
   "source": [
    "# lets check \"?\" present in every columns\n",
    "\n",
    "for column in df.columns:\n",
    "    count = df[column][df[column]=='?'].count()\n",
    "    if count==0:\n",
    "        print(column, count)"
   ]
  },
  {
   "cell_type": "code",
   "execution_count": 139,
   "metadata": {},
   "outputs": [
    {
     "data": {
      "text/html": [
       "<div>\n",
       "<style scoped>\n",
       "    .dataframe tbody tr th:only-of-type {\n",
       "        vertical-align: middle;\n",
       "    }\n",
       "\n",
       "    .dataframe tbody tr th {\n",
       "        vertical-align: top;\n",
       "    }\n",
       "\n",
       "    .dataframe thead th {\n",
       "        text-align: right;\n",
       "    }\n",
       "</style>\n",
       "<table border=\"1\" class=\"dataframe\">\n",
       "  <thead>\n",
       "    <tr style=\"text-align: right;\">\n",
       "      <th></th>\n",
       "      <th>Age</th>\n",
       "      <th>Gender</th>\n",
       "      <th>StrideLength</th>\n",
       "      <th>StrideDuration</th>\n",
       "      <th>GaitCondition</th>\n",
       "    </tr>\n",
       "  </thead>\n",
       "  <tbody>\n",
       "    <tr>\n",
       "      <th>0</th>\n",
       "      <td>45</td>\n",
       "      <td>Male</td>\n",
       "      <td>70</td>\n",
       "      <td>1.2</td>\n",
       "      <td>Normal</td>\n",
       "    </tr>\n",
       "    <tr>\n",
       "      <th>1</th>\n",
       "      <td>55</td>\n",
       "      <td>Male</td>\n",
       "      <td>75</td>\n",
       "      <td>1.8</td>\n",
       "      <td>Hypotonic</td>\n",
       "    </tr>\n",
       "    <tr>\n",
       "      <th>2</th>\n",
       "      <td>50</td>\n",
       "      <td>Female</td>\n",
       "      <td>72</td>\n",
       "      <td>1.1</td>\n",
       "      <td>Normal</td>\n",
       "    </tr>\n",
       "    <tr>\n",
       "      <th>3</th>\n",
       "      <td>60</td>\n",
       "      <td>Male</td>\n",
       "      <td>65</td>\n",
       "      <td>1.1</td>\n",
       "      <td>Hypertonic</td>\n",
       "    </tr>\n",
       "    <tr>\n",
       "      <th>4</th>\n",
       "      <td>35</td>\n",
       "      <td>Male</td>\n",
       "      <td>70</td>\n",
       "      <td>1.3</td>\n",
       "      <td>Normal</td>\n",
       "    </tr>\n",
       "    <tr>\n",
       "      <th>5</th>\n",
       "      <td>40</td>\n",
       "      <td>Female</td>\n",
       "      <td>67</td>\n",
       "      <td>1.4</td>\n",
       "      <td>Hypertonic</td>\n",
       "    </tr>\n",
       "    <tr>\n",
       "      <th>6</th>\n",
       "      <td>65</td>\n",
       "      <td>Male</td>\n",
       "      <td>75</td>\n",
       "      <td>1.0</td>\n",
       "      <td>Normal</td>\n",
       "    </tr>\n",
       "    <tr>\n",
       "      <th>7</th>\n",
       "      <td>48</td>\n",
       "      <td>Female</td>\n",
       "      <td>64</td>\n",
       "      <td>1.7</td>\n",
       "      <td>Hypertonic</td>\n",
       "    </tr>\n",
       "    <tr>\n",
       "      <th>8</th>\n",
       "      <td>58</td>\n",
       "      <td>Male</td>\n",
       "      <td>71</td>\n",
       "      <td>1.2</td>\n",
       "      <td>Normal</td>\n",
       "    </tr>\n",
       "    <tr>\n",
       "      <th>9</th>\n",
       "      <td>42</td>\n",
       "      <td>Female</td>\n",
       "      <td>66</td>\n",
       "      <td>1.5</td>\n",
       "      <td>Hypotonic</td>\n",
       "    </tr>\n",
       "    <tr>\n",
       "      <th>10</th>\n",
       "      <td>55</td>\n",
       "      <td>Female</td>\n",
       "      <td>64</td>\n",
       "      <td>1.7</td>\n",
       "      <td>Hypertonic</td>\n",
       "    </tr>\n",
       "    <tr>\n",
       "      <th>11</th>\n",
       "      <td>70</td>\n",
       "      <td>Male</td>\n",
       "      <td>68</td>\n",
       "      <td>1.3</td>\n",
       "      <td>Hypotonic</td>\n",
       "    </tr>\n",
       "    <tr>\n",
       "      <th>12</th>\n",
       "      <td>72</td>\n",
       "      <td>Female</td>\n",
       "      <td>67</td>\n",
       "      <td>1.4</td>\n",
       "      <td>Hypertonic</td>\n",
       "    </tr>\n",
       "    <tr>\n",
       "      <th>13</th>\n",
       "      <td>66</td>\n",
       "      <td>Male</td>\n",
       "      <td>70</td>\n",
       "      <td>1.2</td>\n",
       "      <td>Normal</td>\n",
       "    </tr>\n",
       "    <tr>\n",
       "      <th>14</th>\n",
       "      <td>38</td>\n",
       "      <td>Female</td>\n",
       "      <td>65</td>\n",
       "      <td>1.5</td>\n",
       "      <td>Hypotonic</td>\n",
       "    </tr>\n",
       "    <tr>\n",
       "      <th>15</th>\n",
       "      <td>59</td>\n",
       "      <td>Female</td>\n",
       "      <td>72</td>\n",
       "      <td>1.1</td>\n",
       "      <td>Normal</td>\n",
       "    </tr>\n",
       "    <tr>\n",
       "      <th>16</th>\n",
       "      <td>68</td>\n",
       "      <td>Male</td>\n",
       "      <td>63</td>\n",
       "      <td>1.6</td>\n",
       "      <td>Hypertonic</td>\n",
       "    </tr>\n",
       "    <tr>\n",
       "      <th>17</th>\n",
       "      <td>45</td>\n",
       "      <td>Male</td>\n",
       "      <td>68</td>\n",
       "      <td>1.3</td>\n",
       "      <td>Normal</td>\n",
       "    </tr>\n",
       "    <tr>\n",
       "      <th>18</th>\n",
       "      <td>46</td>\n",
       "      <td>Female</td>\n",
       "      <td>67</td>\n",
       "      <td>1.4</td>\n",
       "      <td>Hypertonic</td>\n",
       "    </tr>\n",
       "  </tbody>\n",
       "</table>\n",
       "</div>"
      ],
      "text/plain": [
       "    Age  Gender  StrideLength  StrideDuration GaitCondition\n",
       "0    45    Male            70             1.2        Normal\n",
       "1    55    Male            75             1.8     Hypotonic\n",
       "2    50  Female            72             1.1        Normal\n",
       "3    60    Male            65             1.1    Hypertonic\n",
       "4    35    Male            70             1.3        Normal\n",
       "5    40  Female            67             1.4    Hypertonic\n",
       "6    65    Male            75             1.0        Normal\n",
       "7    48  Female            64             1.7    Hypertonic\n",
       "8    58    Male            71             1.2        Normal\n",
       "9    42  Female            66             1.5     Hypotonic\n",
       "10   55  Female            64             1.7    Hypertonic\n",
       "11   70    Male            68             1.3     Hypotonic\n",
       "12   72  Female            67             1.4    Hypertonic\n",
       "13   66    Male            70             1.2        Normal\n",
       "14   38  Female            65             1.5     Hypotonic\n",
       "15   59  Female            72             1.1        Normal\n",
       "16   68    Male            63             1.6    Hypertonic\n",
       "17   45    Male            68             1.3        Normal\n",
       "18   46  Female            67             1.4    Hypertonic"
      ]
     },
     "execution_count": 139,
     "metadata": {},
     "output_type": "execute_result"
    }
   ],
   "source": [
    "df.head(19)"
   ]
  },
  {
   "cell_type": "markdown",
   "metadata": {
    "id": "GvrD7-zzwcUM"
   },
   "source": [
    "# Null Values Imputation"
   ]
  },
  {
   "cell_type": "code",
   "execution_count": 15,
   "metadata": {
    "colab": {
     "base_uri": "https://localhost:8080/"
    },
    "id": "fAdJXUO-vgIB",
    "outputId": "55fa06b2-a833-4e64-e8e9-283111773a4d"
   },
   "outputs": [
    {
     "data": {
      "text/plain": [
       "Age                   0\n",
       "Gender                0\n",
       "Stride length (cm)    0\n",
       "Stride Duration(s)    0\n",
       "Gait Condition        0\n",
       "dtype: int64"
      ]
     },
     "execution_count": 15,
     "metadata": {},
     "output_type": "execute_result"
    }
   ],
   "source": [
    "df.isnull().sum()"
   ]
  },
  {
   "cell_type": "markdown",
   "metadata": {
    "id": "8qV_som4whTD"
   },
   "source": [
    "### Since the values are categorical, we have to change them to numerical before we use any imputation techniques."
   ]
  },
  {
   "cell_type": "code",
   "execution_count": 140,
   "metadata": {
    "id": "4IRI0l5cvlBc"
   },
   "outputs": [],
   "source": [
    "# In sex column, map 'F' to 0 and 'M' to 1\n",
    "df['Gender'] = df['Gender'].map({'Female': 0, 'Male': 1})\n",
    "\n",
    "# For all other binary categorical columns, map 'f' to 0 and 't' to 1\n",
    "for column in df.columns:\n",
    "    unique_values = df[column].unique()\n",
    "    if len(unique_values) == 2 and 'f' in unique_values and 't' in unique_values:\n",
    "        df[column] = df[column].map({'f': 0, 't': 1})\n",
    "# this will map all the rest of the columns as we require."
   ]
  },
  {
   "cell_type": "code",
   "execution_count": 141,
   "metadata": {
    "colab": {
     "base_uri": "https://localhost:8080/",
     "height": 204
    },
    "id": "l0r1NoKvw1A8",
    "outputId": "78ec078e-31ed-4a90-fc7f-47e52361b546"
   },
   "outputs": [
    {
     "data": {
      "text/html": [
       "<div>\n",
       "<style scoped>\n",
       "    .dataframe tbody tr th:only-of-type {\n",
       "        vertical-align: middle;\n",
       "    }\n",
       "\n",
       "    .dataframe tbody tr th {\n",
       "        vertical-align: top;\n",
       "    }\n",
       "\n",
       "    .dataframe thead th {\n",
       "        text-align: right;\n",
       "    }\n",
       "</style>\n",
       "<table border=\"1\" class=\"dataframe\">\n",
       "  <thead>\n",
       "    <tr style=\"text-align: right;\">\n",
       "      <th></th>\n",
       "      <th>Age</th>\n",
       "      <th>Gender</th>\n",
       "      <th>StrideLength</th>\n",
       "      <th>StrideDuration</th>\n",
       "      <th>GaitCondition</th>\n",
       "    </tr>\n",
       "  </thead>\n",
       "  <tbody>\n",
       "    <tr>\n",
       "      <th>0</th>\n",
       "      <td>45</td>\n",
       "      <td>1</td>\n",
       "      <td>70</td>\n",
       "      <td>1.2</td>\n",
       "      <td>Normal</td>\n",
       "    </tr>\n",
       "    <tr>\n",
       "      <th>1</th>\n",
       "      <td>55</td>\n",
       "      <td>1</td>\n",
       "      <td>75</td>\n",
       "      <td>1.8</td>\n",
       "      <td>Hypotonic</td>\n",
       "    </tr>\n",
       "    <tr>\n",
       "      <th>2</th>\n",
       "      <td>50</td>\n",
       "      <td>0</td>\n",
       "      <td>72</td>\n",
       "      <td>1.1</td>\n",
       "      <td>Normal</td>\n",
       "    </tr>\n",
       "    <tr>\n",
       "      <th>3</th>\n",
       "      <td>60</td>\n",
       "      <td>1</td>\n",
       "      <td>65</td>\n",
       "      <td>1.1</td>\n",
       "      <td>Hypertonic</td>\n",
       "    </tr>\n",
       "    <tr>\n",
       "      <th>4</th>\n",
       "      <td>35</td>\n",
       "      <td>1</td>\n",
       "      <td>70</td>\n",
       "      <td>1.3</td>\n",
       "      <td>Normal</td>\n",
       "    </tr>\n",
       "  </tbody>\n",
       "</table>\n",
       "</div>"
      ],
      "text/plain": [
       "   Age  Gender  StrideLength  StrideDuration GaitCondition\n",
       "0   45       1            70             1.2        Normal\n",
       "1   55       1            75             1.8     Hypotonic\n",
       "2   50       0            72             1.1        Normal\n",
       "3   60       1            65             1.1    Hypertonic\n",
       "4   35       1            70             1.3        Normal"
      ]
     },
     "execution_count": 141,
     "metadata": {},
     "output_type": "execute_result"
    }
   ],
   "source": [
    "df.head()"
   ]
  },
  {
   "cell_type": "code",
   "execution_count": null,
   "metadata": {},
   "outputs": [],
   "source": []
  },
  {
   "cell_type": "code",
   "execution_count": 142,
   "metadata": {
    "colab": {
     "base_uri": "https://localhost:8080/"
    },
    "id": "OgWVtigJw2tN",
    "outputId": "636df7f2-ebfb-4ff0-e551-d446627f2a0b"
   },
   "outputs": [
    {
     "data": {
      "text/plain": [
       "Normal        76\n",
       "Hypertonic    39\n",
       "Hypotonic     20\n",
       "Name: GaitCondition, dtype: int64"
      ]
     },
     "execution_count": 142,
     "metadata": {},
     "output_type": "execute_result"
    }
   ],
   "source": [
    "# target class\n",
    "\n",
    "df[\"GaitCondition\"].value_counts()"
   ]
  },
  {
   "cell_type": "code",
   "execution_count": 143,
   "metadata": {
    "id": "vGFmJgxQxLsx"
   },
   "outputs": [],
   "source": [
    "from sklearn.preprocessing import LabelEncoder\n",
    "encoder = LabelEncoder().fit(df['GaitCondition'])\n",
    "\n",
    "df['GaitCondition'] = encoder.transform(df['GaitCondition'])\n",
    "\n",
    "# we will save the encoder as pickle to use when we do the prediction. We will need to decode the predcited values\n",
    "# back to original\n",
    "\n",
    "file = \"encoder.pickle\"\n",
    "pickle.dump(encoder, open(file, \"wb\"))"
   ]
  },
  {
   "cell_type": "code",
   "execution_count": 144,
   "metadata": {
    "colab": {
     "base_uri": "https://localhost:8080/",
     "height": 204
    },
    "id": "Ko-jpAxCxuWb",
    "outputId": "a92f84e8-4e26-4ab6-c7c6-db092dcb8738"
   },
   "outputs": [
    {
     "data": {
      "text/html": [
       "<div>\n",
       "<style scoped>\n",
       "    .dataframe tbody tr th:only-of-type {\n",
       "        vertical-align: middle;\n",
       "    }\n",
       "\n",
       "    .dataframe tbody tr th {\n",
       "        vertical-align: top;\n",
       "    }\n",
       "\n",
       "    .dataframe thead th {\n",
       "        text-align: right;\n",
       "    }\n",
       "</style>\n",
       "<table border=\"1\" class=\"dataframe\">\n",
       "  <thead>\n",
       "    <tr style=\"text-align: right;\">\n",
       "      <th></th>\n",
       "      <th>Age</th>\n",
       "      <th>Gender</th>\n",
       "      <th>StrideLength</th>\n",
       "      <th>StrideDuration</th>\n",
       "      <th>GaitCondition</th>\n",
       "    </tr>\n",
       "  </thead>\n",
       "  <tbody>\n",
       "    <tr>\n",
       "      <th>0</th>\n",
       "      <td>45</td>\n",
       "      <td>1</td>\n",
       "      <td>70</td>\n",
       "      <td>1.2</td>\n",
       "      <td>2</td>\n",
       "    </tr>\n",
       "    <tr>\n",
       "      <th>1</th>\n",
       "      <td>55</td>\n",
       "      <td>1</td>\n",
       "      <td>75</td>\n",
       "      <td>1.8</td>\n",
       "      <td>1</td>\n",
       "    </tr>\n",
       "    <tr>\n",
       "      <th>2</th>\n",
       "      <td>50</td>\n",
       "      <td>0</td>\n",
       "      <td>72</td>\n",
       "      <td>1.1</td>\n",
       "      <td>2</td>\n",
       "    </tr>\n",
       "    <tr>\n",
       "      <th>3</th>\n",
       "      <td>60</td>\n",
       "      <td>1</td>\n",
       "      <td>65</td>\n",
       "      <td>1.1</td>\n",
       "      <td>0</td>\n",
       "    </tr>\n",
       "    <tr>\n",
       "      <th>4</th>\n",
       "      <td>35</td>\n",
       "      <td>1</td>\n",
       "      <td>70</td>\n",
       "      <td>1.3</td>\n",
       "      <td>2</td>\n",
       "    </tr>\n",
       "  </tbody>\n",
       "</table>\n",
       "</div>"
      ],
      "text/plain": [
       "   Age  Gender  StrideLength  StrideDuration  GaitCondition\n",
       "0   45       1            70             1.2              2\n",
       "1   55       1            75             1.8              1\n",
       "2   50       0            72             1.1              2\n",
       "3   60       1            65             1.1              0\n",
       "4   35       1            70             1.3              2"
      ]
     },
     "execution_count": 144,
     "metadata": {},
     "output_type": "execute_result"
    }
   ],
   "source": [
    "df.head()"
   ]
  },
  {
   "cell_type": "code",
   "execution_count": 145,
   "metadata": {},
   "outputs": [
    {
     "name": "stdout",
     "output_type": "stream",
     "text": [
      "Class Mapping:\n",
      "0: Hypertonic\n",
      "1: Hypotonic\n",
      "2: Normal\n"
     ]
    }
   ],
   "source": [
    "# Mapping between numeric values and original classes\n",
    "class_mapping = dict(zip(encoder.classes_, encoder.transform(encoder.classes_)))\n",
    "\n",
    "# Displaying the mapping\n",
    "print(\"Class Mapping:\")\n",
    "for class_name, numeric_value in class_mapping.items():\n",
    "    print(f\"{numeric_value}: {class_name}\")\n"
   ]
  },
  {
   "cell_type": "code",
   "execution_count": 146,
   "metadata": {},
   "outputs": [
    {
     "data": {
      "image/png": "[encoded data removed]",
      "text/plain": [
       "<Figure size 432x288 with 1 Axes>"
      ]
     },
     "metadata": {
      "needs_background": "light"
     },
     "output_type": "display_data"
    }
   ],
   "source": [
    "sns.countplot(df['GaitCondition'])\n",
    "plt.show()"
   ]
  },
  {
   "cell_type": "code",
   "execution_count": null,
   "metadata": {},
   "outputs": [],
   "source": []
  },
  {
   "cell_type": "code",
   "execution_count": 147,
   "metadata": {},
   "outputs": [
    {
     "data": {
      "text/html": [
       "<div>\n",
       "<style scoped>\n",
       "    .dataframe tbody tr th:only-of-type {\n",
       "        vertical-align: middle;\n",
       "    }\n",
       "\n",
       "    .dataframe tbody tr th {\n",
       "        vertical-align: top;\n",
       "    }\n",
       "\n",
       "    .dataframe thead th {\n",
       "        text-align: right;\n",
       "    }\n",
       "</style>\n",
       "<table border=\"1\" class=\"dataframe\">\n",
       "  <thead>\n",
       "    <tr style=\"text-align: right;\">\n",
       "      <th></th>\n",
       "      <th>Age</th>\n",
       "      <th>Gender</th>\n",
       "      <th>StrideLength</th>\n",
       "      <th>StrideDuration</th>\n",
       "      <th>GaitCondition</th>\n",
       "    </tr>\n",
       "  </thead>\n",
       "  <tbody>\n",
       "    <tr>\n",
       "      <th>0</th>\n",
       "      <td>45</td>\n",
       "      <td>1</td>\n",
       "      <td>70</td>\n",
       "      <td>1.2</td>\n",
       "      <td>2</td>\n",
       "    </tr>\n",
       "    <tr>\n",
       "      <th>1</th>\n",
       "      <td>55</td>\n",
       "      <td>1</td>\n",
       "      <td>75</td>\n",
       "      <td>1.8</td>\n",
       "      <td>1</td>\n",
       "    </tr>\n",
       "    <tr>\n",
       "      <th>2</th>\n",
       "      <td>50</td>\n",
       "      <td>0</td>\n",
       "      <td>72</td>\n",
       "      <td>1.1</td>\n",
       "      <td>2</td>\n",
       "    </tr>\n",
       "    <tr>\n",
       "      <th>3</th>\n",
       "      <td>60</td>\n",
       "      <td>1</td>\n",
       "      <td>65</td>\n",
       "      <td>1.1</td>\n",
       "      <td>0</td>\n",
       "    </tr>\n",
       "    <tr>\n",
       "      <th>4</th>\n",
       "      <td>35</td>\n",
       "      <td>1</td>\n",
       "      <td>70</td>\n",
       "      <td>1.3</td>\n",
       "      <td>2</td>\n",
       "    </tr>\n",
       "    <tr>\n",
       "      <th>5</th>\n",
       "      <td>40</td>\n",
       "      <td>0</td>\n",
       "      <td>67</td>\n",
       "      <td>1.4</td>\n",
       "      <td>0</td>\n",
       "    </tr>\n",
       "    <tr>\n",
       "      <th>6</th>\n",
       "      <td>65</td>\n",
       "      <td>1</td>\n",
       "      <td>75</td>\n",
       "      <td>1.0</td>\n",
       "      <td>2</td>\n",
       "    </tr>\n",
       "    <tr>\n",
       "      <th>7</th>\n",
       "      <td>48</td>\n",
       "      <td>0</td>\n",
       "      <td>64</td>\n",
       "      <td>1.7</td>\n",
       "      <td>0</td>\n",
       "    </tr>\n",
       "    <tr>\n",
       "      <th>8</th>\n",
       "      <td>58</td>\n",
       "      <td>1</td>\n",
       "      <td>71</td>\n",
       "      <td>1.2</td>\n",
       "      <td>2</td>\n",
       "    </tr>\n",
       "    <tr>\n",
       "      <th>9</th>\n",
       "      <td>42</td>\n",
       "      <td>0</td>\n",
       "      <td>66</td>\n",
       "      <td>1.5</td>\n",
       "      <td>1</td>\n",
       "    </tr>\n",
       "    <tr>\n",
       "      <th>10</th>\n",
       "      <td>55</td>\n",
       "      <td>0</td>\n",
       "      <td>64</td>\n",
       "      <td>1.7</td>\n",
       "      <td>0</td>\n",
       "    </tr>\n",
       "    <tr>\n",
       "      <th>11</th>\n",
       "      <td>70</td>\n",
       "      <td>1</td>\n",
       "      <td>68</td>\n",
       "      <td>1.3</td>\n",
       "      <td>1</td>\n",
       "    </tr>\n",
       "    <tr>\n",
       "      <th>12</th>\n",
       "      <td>72</td>\n",
       "      <td>0</td>\n",
       "      <td>67</td>\n",
       "      <td>1.4</td>\n",
       "      <td>0</td>\n",
       "    </tr>\n",
       "    <tr>\n",
       "      <th>13</th>\n",
       "      <td>66</td>\n",
       "      <td>1</td>\n",
       "      <td>70</td>\n",
       "      <td>1.2</td>\n",
       "      <td>2</td>\n",
       "    </tr>\n",
       "    <tr>\n",
       "      <th>14</th>\n",
       "      <td>38</td>\n",
       "      <td>0</td>\n",
       "      <td>65</td>\n",
       "      <td>1.5</td>\n",
       "      <td>1</td>\n",
       "    </tr>\n",
       "    <tr>\n",
       "      <th>15</th>\n",
       "      <td>59</td>\n",
       "      <td>0</td>\n",
       "      <td>72</td>\n",
       "      <td>1.1</td>\n",
       "      <td>2</td>\n",
       "    </tr>\n",
       "    <tr>\n",
       "      <th>16</th>\n",
       "      <td>68</td>\n",
       "      <td>1</td>\n",
       "      <td>63</td>\n",
       "      <td>1.6</td>\n",
       "      <td>0</td>\n",
       "    </tr>\n",
       "    <tr>\n",
       "      <th>17</th>\n",
       "      <td>45</td>\n",
       "      <td>1</td>\n",
       "      <td>68</td>\n",
       "      <td>1.3</td>\n",
       "      <td>2</td>\n",
       "    </tr>\n",
       "    <tr>\n",
       "      <th>18</th>\n",
       "      <td>46</td>\n",
       "      <td>0</td>\n",
       "      <td>67</td>\n",
       "      <td>1.4</td>\n",
       "      <td>0</td>\n",
       "    </tr>\n",
       "    <tr>\n",
       "      <th>19</th>\n",
       "      <td>76</td>\n",
       "      <td>1</td>\n",
       "      <td>75</td>\n",
       "      <td>1.0</td>\n",
       "      <td>2</td>\n",
       "    </tr>\n",
       "  </tbody>\n",
       "</table>\n",
       "</div>"
      ],
      "text/plain": [
       "    Age  Gender  StrideLength  StrideDuration  GaitCondition\n",
       "0    45       1            70             1.2              2\n",
       "1    55       1            75             1.8              1\n",
       "2    50       0            72             1.1              2\n",
       "3    60       1            65             1.1              0\n",
       "4    35       1            70             1.3              2\n",
       "5    40       0            67             1.4              0\n",
       "6    65       1            75             1.0              2\n",
       "7    48       0            64             1.7              0\n",
       "8    58       1            71             1.2              2\n",
       "9    42       0            66             1.5              1\n",
       "10   55       0            64             1.7              0\n",
       "11   70       1            68             1.3              1\n",
       "12   72       0            67             1.4              0\n",
       "13   66       1            70             1.2              2\n",
       "14   38       0            65             1.5              1\n",
       "15   59       0            72             1.1              2\n",
       "16   68       1            63             1.6              0\n",
       "17   45       1            68             1.3              2\n",
       "18   46       0            67             1.4              0\n",
       "19   76       1            75             1.0              2"
      ]
     },
     "execution_count": 147,
     "metadata": {},
     "output_type": "execute_result"
    }
   ],
   "source": [
    "df.head(20)"
   ]
  },
  {
   "cell_type": "markdown",
   "metadata": {
    "id": "fgnIA9VVx51G"
   },
   "source": [
    "### Now that we have encoded all our Categorical values. Let's start with imputing the missing values."
   ]
  },
  {
   "cell_type": "code",
   "execution_count": 148,
   "metadata": {
    "id": "3nOxzDgSxwsA"
   },
   "outputs": [],
   "source": [
    "import sklearn.impute\n",
    "\n",
    "imputer=sklearn.impute.KNNImputer(n_neighbors=3, weights='uniform',missing_values=np.nan)\n",
    "new_array=imputer.fit_transform(df) # impute the missing values\n",
    "\n",
    "# convert the nd-array returned in the step above to a Dataframe\n",
    "new_df=pd.DataFrame(data=np.round(new_array), columns=df.columns)"
   ]
  },
  {
   "cell_type": "code",
   "execution_count": 149,
   "metadata": {
    "colab": {
     "base_uri": "https://localhost:8080/"
    },
    "id": "OJpjxO2ryQo3",
    "outputId": "ab69dcff-cf63-4fe2-80a3-3fd209d16dff"
   },
   "outputs": [
    {
     "data": {
      "text/plain": [
       "Age               0\n",
       "Gender            0\n",
       "StrideLength      0\n",
       "StrideDuration    0\n",
       "GaitCondition     0\n",
       "dtype: int64"
      ]
     },
     "execution_count": 149,
     "metadata": {},
     "output_type": "execute_result"
    }
   ],
   "source": [
    "new_df.isnull().sum()"
   ]
  },
  {
   "cell_type": "markdown",
   "metadata": {
    "id": "VYEzoEZJzFSr"
   },
   "source": [
    "# Count plot for target class"
   ]
  },
  {
   "cell_type": "code",
   "execution_count": 151,
   "metadata": {
    "colab": {
     "base_uri": "https://localhost:8080/",
     "height": 279
    },
    "id": "j5cCqhonyUgF",
    "outputId": "4a9e7a35-ff52-4e62-de06-f9a4f2ddb1a7"
   },
   "outputs": [
    {
     "data": {
      "image/png": "[encoded data removed]",
      "text/plain": [
       "<Figure size 432x288 with 1 Axes>"
      ]
     },
     "metadata": {
      "needs_background": "light"
     },
     "output_type": "display_data"
    }
   ],
   "source": [
    "import seaborn as sns\n",
    "import matplotlib.pyplot as plt\n",
    "\n",
    "sns.countplot(new_df['GaitCondition'])\n",
    "plt.show()"
   ]
  },
  {
   "cell_type": "markdown",
   "metadata": {
    "id": "xJCQkO2zzJtD"
   },
   "source": [
    "### We can clerly see that the dataset is highly imbalanced.\n",
    "\n",
    "- We will use a python library known as imbalanced-learn to deal with imbalanced data. Imbalanced learn has an algorithm called RandomOverSampler."
   ]
  },
  {
   "cell_type": "code",
   "execution_count": 152,
   "metadata": {
    "id": "9E7Xh0MZy2yc"
   },
   "outputs": [],
   "source": [
    "from imblearn.over_sampling import SMOTENC,RandomOverSampler"
   ]
  },
  {
   "cell_type": "code",
   "execution_count": 154,
   "metadata": {
    "id": "bLQDT_PezgOZ"
   },
   "outputs": [],
   "source": [
    "from imblearn.over_sampling import RandomOverSampler\n",
    "\n",
    "# Assuming 'new_df' contains your dataset and 'Class' is the target variable\n",
    "x = new_df.drop(['GaitCondition'], axis=1)\n",
    "y = new_df['GaitCondition']\n",
    "\n",
    "# Instantiate the RandomOverSampler\n",
    "rdsmple = RandomOverSampler()\n",
    "\n",
    "# Resample the dataset\n",
    "x_sampled, y_sampled = rdsmple.fit_resample(x, y)\n",
    "\n",
    "# Now, x_sampled and y_sampled contain the oversampled data\n"
   ]
  },
  {
   "cell_type": "code",
   "execution_count": 155,
   "metadata": {
    "colab": {
     "base_uri": "https://localhost:8080/"
    },
    "id": "UivY2dgQz5Xd",
    "outputId": "62602b17-3a88-4365-e3a6-41d8d59b155d"
   },
   "outputs": [
    {
     "data": {
      "text/plain": [
       "array([[45.,  1., 70.,  1.],\n",
       "       [55.,  1., 75.,  2.],\n",
       "       [50.,  0., 72.,  1.],\n",
       "       [60.,  1., 65.,  1.],\n",
       "       [35.,  1., 70.,  1.],\n",
       "       [40.,  0., 67.,  1.],\n",
       "       [65.,  1., 75.,  1.],\n",
       "       [48.,  0., 64.,  2.],\n",
       "       [58.,  1., 71.,  1.],\n",
       "       [42.,  0., 66.,  2.],\n",
       "       [55.,  0., 64.,  2.],\n",
       "       [70.,  1., 68.,  1.],\n",
       "       [72.,  0., 67.,  1.],\n",
       "       [66.,  1., 70.,  1.],\n",
       "       [38.,  0., 65.,  2.],\n",
       "       [59.,  0., 72.,  1.],\n",
       "       [68.,  1., 63.,  2.],\n",
       "       [45.,  1., 68.,  1.],\n",
       "       [46.,  0., 67.,  1.],\n",
       "       [76.,  1., 75.,  1.],\n",
       "       [58.,  0., 64.,  2.],\n",
       "       [54.,  1., 71.,  1.],\n",
       "       [45.,  1., 66.,  2.],\n",
       "       [43.,  0., 64.,  2.],\n",
       "       [39.,  0., 68.,  1.],\n",
       "       [69.,  0., 67.,  1.],\n",
       "       [37.,  0., 65.,  1.],\n",
       "       [45.,  0., 68.,  1.],\n",
       "       [55.,  0., 67.,  2.],\n",
       "       [52.,  0., 69.,  1.],\n",
       "       [43.,  1., 72.,  1.],\n",
       "       [54.,  1., 68.,  1.],\n",
       "       [57.,  1., 70.,  1.],\n",
       "       [65.,  0., 66.,  1.],\n",
       "       [64.,  1., 68.,  1.],\n",
       "       [57.,  0., 67.,  2.],\n",
       "       [69.,  1., 71.,  1.],\n",
       "       [64.,  0., 68.,  1.],\n",
       "       [53.,  0., 67.,  2.],\n",
       "       [49.,  1., 70.,  1.],\n",
       "       [54.,  1., 73.,  1.],\n",
       "       [51.,  1., 69.,  1.],\n",
       "       [68.,  0., 67.,  1.],\n",
       "       [62.,  1., 70.,  1.],\n",
       "       [67.,  0., 65.,  1.],\n",
       "       [69.,  0., 67.,  1.],\n",
       "       [59.,  0., 65.,  1.],\n",
       "       [63.,  0., 64.,  1.],\n",
       "       [47.,  1., 72.,  1.],\n",
       "       [40.,  1., 71.,  1.],\n",
       "       [39.,  1., 70.,  1.],\n",
       "       [37.,  1., 69.,  1.],\n",
       "       [66.,  1., 68.,  2.],\n",
       "       [40.,  1., 71.,  1.],\n",
       "       [60.,  1., 70.,  1.],\n",
       "       [51.,  1., 69.,  1.],\n",
       "       [63.,  0., 64.,  1.],\n",
       "       [68.,  0., 66.,  1.],\n",
       "       [55.,  0., 67.,  2.],\n",
       "       [48.,  0., 68.,  1.],\n",
       "       [49.,  0., 67.,  1.],\n",
       "       [44.,  0., 69.,  1.],\n",
       "       [65.,  0., 66.,  1.],\n",
       "       [37.,  1., 69.,  1.],\n",
       "       [54.,  1., 68.,  1.],\n",
       "       [67.,  1., 67.,  2.],\n",
       "       [45.,  1., 71.,  1.],\n",
       "       [54.,  0., 70.,  1.],\n",
       "       [46.,  0., 66.,  1.],\n",
       "       [54.,  0., 68.,  1.],\n",
       "       [47.,  0., 67.,  2.],\n",
       "       [45.,  0., 71.,  1.],\n",
       "       [69.,  0., 68.,  1.],\n",
       "       [67.,  0., 67.,  2.],\n",
       "       [59.,  0., 70.,  1.],\n",
       "       [66.,  0., 73.,  1.],\n",
       "       [78.,  1., 69.,  1.],\n",
       "       [69.,  1., 67.,  1.],\n",
       "       [57.,  1., 70.,  1.],\n",
       "       [48.,  0., 65.,  1.],\n",
       "       [65.,  0., 67.,  1.],\n",
       "       [46.,  0., 65.,  1.],\n",
       "       [87.,  1., 64.,  1.],\n",
       "       [46.,  0., 72.,  1.],\n",
       "       [68.,  1., 71.,  1.],\n",
       "       [69.,  1., 70.,  1.],\n",
       "       [65.,  1., 65.,  2.],\n",
       "       [66.,  0., 72.,  1.],\n",
       "       [67.,  0., 63.,  2.],\n",
       "       [68.,  0., 68.,  1.],\n",
       "       [69.,  0., 67.,  1.],\n",
       "       [70.,  0., 75.,  1.],\n",
       "       [64.,  1., 64.,  2.],\n",
       "       [66.,  1., 71.,  1.],\n",
       "       [59.,  1., 66.,  2.],\n",
       "       [58.,  1., 64.,  2.],\n",
       "       [60.,  1., 68.,  1.],\n",
       "       [60.,  1., 67.,  1.],\n",
       "       [60.,  0., 65.,  1.],\n",
       "       [61.,  0., 68.,  1.],\n",
       "       [72.,  0., 67.,  2.],\n",
       "       [73.,  0., 69.,  1.],\n",
       "       [60.,  0., 68.,  1.],\n",
       "       [74.,  0., 62.,  1.],\n",
       "       [60.,  0., 65.,  1.],\n",
       "       [68.,  0., 64.,  1.],\n",
       "       [69.,  0., 63.,  1.],\n",
       "       [65.,  0., 66.,  1.],\n",
       "       [69.,  1., 68.,  1.],\n",
       "       [54.,  1., 70.,  1.],\n",
       "       [46.,  1., 71.,  1.],\n",
       "       [40.,  0., 62.,  1.],\n",
       "       [67.,  1., 65.,  1.],\n",
       "       [62.,  0., 63.,  1.],\n",
       "       [72.,  1., 67.,  2.],\n",
       "       [74.,  0., 62.,  1.],\n",
       "       [65.,  1., 66.,  1.],\n",
       "       [55.,  1., 68.,  1.],\n",
       "       [68.,  0., 64.,  1.],\n",
       "       [69.,  0., 63.,  1.],\n",
       "       [70.,  1., 67.,  1.],\n",
       "       [70.,  0., 65.,  2.],\n",
       "       [75.,  1., 64.,  2.],\n",
       "       [62.,  0., 63.,  1.],\n",
       "       [63.,  1., 66.,  1.],\n",
       "       [60.,  0., 65.,  1.],\n",
       "       [60.,  1., 66.,  1.],\n",
       "       [64.,  1., 66.,  2.],\n",
       "       [65.,  1., 66.,  2.],\n",
       "       [55.,  0., 64.,  2.],\n",
       "       [63.,  1., 67.,  1.],\n",
       "       [63.,  0., 62.,  2.],\n",
       "       [73.,  1., 66.,  2.],\n",
       "       [70.,  1., 64.,  2.],\n",
       "       [60.,  0., 66.,  2.],\n",
       "       [64.,  1., 64.,  2.],\n",
       "       [78.,  1., 69.,  1.],\n",
       "       [68.,  1., 63.,  2.],\n",
       "       [46.,  0., 67.,  1.],\n",
       "       [69.,  0., 67.,  1.],\n",
       "       [69.,  0., 67.,  1.],\n",
       "       [58.,  1., 64.,  2.],\n",
       "       [55.,  0., 64.,  2.],\n",
       "       [74.,  0., 62.,  1.],\n",
       "       [70.,  1., 64.,  2.],\n",
       "       [68.,  1., 63.,  2.],\n",
       "       [55.,  0., 64.,  2.],\n",
       "       [53.,  0., 67.,  2.],\n",
       "       [74.,  0., 62.,  1.],\n",
       "       [48.,  0., 65.,  1.],\n",
       "       [58.,  1., 64.,  2.],\n",
       "       [72.,  0., 67.,  2.],\n",
       "       [67.,  0., 67.,  2.],\n",
       "       [68.,  1., 63.,  2.],\n",
       "       [55.,  0., 67.,  2.],\n",
       "       [53.,  0., 67.,  2.],\n",
       "       [70.,  1., 67.,  1.],\n",
       "       [67.,  0., 67.,  2.],\n",
       "       [78.,  1., 69.,  1.],\n",
       "       [48.,  0., 64.,  2.],\n",
       "       [69.,  0., 67.,  1.],\n",
       "       [47.,  0., 67.,  2.],\n",
       "       [58.,  0., 64.,  2.],\n",
       "       [51.,  1., 69.,  1.],\n",
       "       [43.,  0., 64.,  2.],\n",
       "       [46.,  0., 67.,  1.],\n",
       "       [55.,  0., 67.,  2.],\n",
       "       [67.,  0., 67.,  2.],\n",
       "       [48.,  0., 64.,  2.],\n",
       "       [58.,  1., 64.,  2.],\n",
       "       [58.,  0., 64.,  2.],\n",
       "       [72.,  1., 67.,  2.],\n",
       "       [73.,  1., 66.,  2.],\n",
       "       [60.,  0., 66.,  2.],\n",
       "       [60.,  0., 65.,  1.],\n",
       "       [55.,  1., 75.,  2.],\n",
       "       [65.,  1., 65.,  2.],\n",
       "       [40.,  0., 62.,  1.],\n",
       "       [60.,  0., 66.,  2.],\n",
       "       [60.,  1., 68.,  1.],\n",
       "       [60.,  1., 68.,  1.],\n",
       "       [40.,  0., 62.,  1.],\n",
       "       [38.,  0., 65.,  2.],\n",
       "       [64.,  1., 66.,  2.],\n",
       "       [37.,  0., 65.,  1.],\n",
       "       [65.,  1., 65.,  2.],\n",
       "       [59.,  1., 66.,  2.],\n",
       "       [59.,  1., 66.,  2.],\n",
       "       [70.,  1., 68.,  1.],\n",
       "       [37.,  0., 65.,  1.],\n",
       "       [69.,  1., 67.,  1.],\n",
       "       [42.,  0., 66.,  2.],\n",
       "       [60.,  0., 66.,  2.],\n",
       "       [59.,  1., 66.,  2.],\n",
       "       [55.,  1., 75.,  2.],\n",
       "       [60.,  0., 65.,  1.],\n",
       "       [69.,  1., 67.,  1.],\n",
       "       [42.,  0., 66.,  2.],\n",
       "       [68.,  0., 67.,  1.],\n",
       "       [68.,  0., 67.,  1.],\n",
       "       [59.,  1., 66.,  2.],\n",
       "       [68.,  0., 67.,  1.],\n",
       "       [60.,  1., 68.,  1.],\n",
       "       [37.,  0., 65.,  1.],\n",
       "       [69.,  1., 67.,  1.],\n",
       "       [38.,  0., 65.,  2.],\n",
       "       [60.,  0., 65.,  1.],\n",
       "       [39.,  0., 68.,  1.],\n",
       "       [37.,  0., 65.,  1.],\n",
       "       [45.,  1., 66.,  2.],\n",
       "       [55.,  1., 75.,  2.],\n",
       "       [40.,  0., 62.,  1.],\n",
       "       [55.,  1., 75.,  2.],\n",
       "       [60.,  0., 65.,  1.],\n",
       "       [37.,  0., 65.,  1.],\n",
       "       [69.,  1., 67.,  1.],\n",
       "       [55.,  1., 75.,  2.],\n",
       "       [40.,  0., 62.,  1.],\n",
       "       [68.,  0., 66.,  1.],\n",
       "       [40.,  0., 62.,  1.],\n",
       "       [60.,  0., 66.,  2.],\n",
       "       [39.,  0., 68.,  1.],\n",
       "       [60.,  1., 68.,  1.],\n",
       "       [69.,  1., 67.,  1.],\n",
       "       [70.,  1., 68.,  1.],\n",
       "       [42.,  0., 66.,  2.],\n",
       "       [55.,  1., 75.,  2.],\n",
       "       [60.,  0., 65.,  1.]])"
      ]
     },
     "execution_count": 155,
     "metadata": {},
     "output_type": "execute_result"
    }
   ],
   "source": [
    "x_sampled.values"
   ]
  },
  {
   "cell_type": "code",
   "execution_count": 156,
   "metadata": {
    "colab": {
     "base_uri": "https://localhost:8080/",
     "height": 204
    },
    "id": "7jCWYbFu0Ai8",
    "outputId": "2b338cca-c057-4fd4-da51-fd71fa5594cc"
   },
   "outputs": [
    {
     "data": {
      "text/html": [
       "<div>\n",
       "<style scoped>\n",
       "    .dataframe tbody tr th:only-of-type {\n",
       "        vertical-align: middle;\n",
       "    }\n",
       "\n",
       "    .dataframe tbody tr th {\n",
       "        vertical-align: top;\n",
       "    }\n",
       "\n",
       "    .dataframe thead th {\n",
       "        text-align: right;\n",
       "    }\n",
       "</style>\n",
       "<table border=\"1\" class=\"dataframe\">\n",
       "  <thead>\n",
       "    <tr style=\"text-align: right;\">\n",
       "      <th></th>\n",
       "      <th>Age</th>\n",
       "      <th>Gender</th>\n",
       "      <th>StrideLength</th>\n",
       "      <th>StrideDuration</th>\n",
       "    </tr>\n",
       "  </thead>\n",
       "  <tbody>\n",
       "    <tr>\n",
       "      <th>0</th>\n",
       "      <td>45.0</td>\n",
       "      <td>1.0</td>\n",
       "      <td>70.0</td>\n",
       "      <td>1.0</td>\n",
       "    </tr>\n",
       "    <tr>\n",
       "      <th>1</th>\n",
       "      <td>55.0</td>\n",
       "      <td>1.0</td>\n",
       "      <td>75.0</td>\n",
       "      <td>2.0</td>\n",
       "    </tr>\n",
       "    <tr>\n",
       "      <th>2</th>\n",
       "      <td>50.0</td>\n",
       "      <td>0.0</td>\n",
       "      <td>72.0</td>\n",
       "      <td>1.0</td>\n",
       "    </tr>\n",
       "    <tr>\n",
       "      <th>3</th>\n",
       "      <td>60.0</td>\n",
       "      <td>1.0</td>\n",
       "      <td>65.0</td>\n",
       "      <td>1.0</td>\n",
       "    </tr>\n",
       "    <tr>\n",
       "      <th>4</th>\n",
       "      <td>35.0</td>\n",
       "      <td>1.0</td>\n",
       "      <td>70.0</td>\n",
       "      <td>1.0</td>\n",
       "    </tr>\n",
       "  </tbody>\n",
       "</table>\n",
       "</div>"
      ],
      "text/plain": [
       "    Age  Gender  StrideLength  StrideDuration\n",
       "0  45.0     1.0          70.0             1.0\n",
       "1  55.0     1.0          75.0             2.0\n",
       "2  50.0     0.0          72.0             1.0\n",
       "3  60.0     1.0          65.0             1.0\n",
       "4  35.0     1.0          70.0             1.0"
      ]
     },
     "execution_count": 156,
     "metadata": {},
     "output_type": "execute_result"
    }
   ],
   "source": [
    "x_sampled = pd.DataFrame(data = x_sampled, columns = x.columns)\n",
    "x_sampled.head()"
   ]
  },
  {
   "cell_type": "code",
   "execution_count": 157,
   "metadata": {
    "colab": {
     "base_uri": "https://localhost:8080/"
    },
    "id": "ViEw_wjF0C1i",
    "outputId": "21e794e9-7b38-4fbb-a672-1d5eeb200b16"
   },
   "outputs": [
    {
     "data": {
      "text/plain": [
       "(228, 4)"
      ]
     },
     "execution_count": 157,
     "metadata": {},
     "output_type": "execute_result"
    }
   ],
   "source": [
    "x_sampled.shape"
   ]
  },
  {
   "cell_type": "code",
   "execution_count": 158,
   "metadata": {
    "colab": {
     "base_uri": "https://localhost:8080/"
    },
    "id": "qBI5tV7f0HDP",
    "outputId": "c7949def-231e-4b19-823f-c44ef3265489"
   },
   "outputs": [
    {
     "data": {
      "text/plain": [
       "array([2., 1., 2., 0., 2., 0., 2., 0., 2., 1., 0., 1., 0., 2., 1., 2., 0.,\n",
       "       2., 0., 2., 0., 2., 1., 0., 1., 0., 1., 2., 0., 2., 2., 2., 2., 0.,\n",
       "       2., 0., 2., 2., 0., 2., 2., 0., 1., 2., 0., 2., 2., 2., 2., 2., 2.,\n",
       "       2., 0., 2., 2., 2., 2., 1., 0., 2., 2., 2., 0., 2., 2., 0., 2., 2.,\n",
       "       0., 2., 0., 2., 2., 0., 2., 2., 0., 1., 2., 0., 2., 2., 2., 2., 2.,\n",
       "       2., 1., 2., 0., 2., 0., 2., 0., 2., 1., 0., 1., 0., 1., 2., 0., 2.,\n",
       "       2., 0., 2., 2., 2., 2., 0., 2., 2., 1., 2., 2., 0., 0., 2., 2., 2.,\n",
       "       2., 0., 0., 0., 2., 2., 2., 2., 1., 1., 2., 2., 1., 1., 0., 1., 0.,\n",
       "       0., 0., 0., 0., 0., 0., 0., 0., 0., 0., 0., 0., 0., 0., 0., 0., 0.,\n",
       "       0., 0., 0., 0., 0., 0., 0., 0., 0., 0., 0., 0., 0., 0., 0., 0., 0.,\n",
       "       0., 0., 1., 1., 1., 1., 1., 1., 1., 1., 1., 1., 1., 1., 1., 1., 1.,\n",
       "       1., 1., 1., 1., 1., 1., 1., 1., 1., 1., 1., 1., 1., 1., 1., 1., 1.,\n",
       "       1., 1., 1., 1., 1., 1., 1., 1., 1., 1., 1., 1., 1., 1., 1., 1., 1.,\n",
       "       1., 1., 1., 1., 1., 1., 1.])"
      ]
     },
     "execution_count": 158,
     "metadata": {},
     "output_type": "execute_result"
    }
   ],
   "source": [
    "y_sampled.values"
   ]
  },
  {
   "cell_type": "code",
   "execution_count": 159,
   "metadata": {
    "colab": {
     "base_uri": "https://localhost:8080/",
     "height": 282
    },
    "id": "hxOJpvuD0JEi",
    "outputId": "fc92ca2a-7a6a-4f11-c719-da85e5f1da8f"
   },
   "outputs": [
    {
     "data": {
      "text/plain": [
       "<AxesSubplot:xlabel='GaitCondition', ylabel='count'>"
      ]
     },
     "execution_count": 159,
     "metadata": {},
     "output_type": "execute_result"
    },
    {
     "data": {
      "image/png": "[encoded data removed]",
      "text/plain": [
       "<Figure size 432x288 with 1 Axes>"
      ]
     },
     "metadata": {
      "needs_background": "light"
     },
     "output_type": "display_data"
    }
   ],
   "source": [
    "sns.countplot(y_sampled)"
   ]
  },
  {
   "cell_type": "code",
   "execution_count": 160,
   "metadata": {
    "colab": {
     "base_uri": "https://localhost:8080/",
     "height": 419
    },
    "id": "x71nCYjv0OnP",
    "outputId": "a723daa1-760a-4e79-873e-b6a5f650065e"
   },
   "outputs": [
    {
     "data": {
      "text/html": [
       "<div>\n",
       "<style scoped>\n",
       "    .dataframe tbody tr th:only-of-type {\n",
       "        vertical-align: middle;\n",
       "    }\n",
       "\n",
       "    .dataframe tbody tr th {\n",
       "        vertical-align: top;\n",
       "    }\n",
       "\n",
       "    .dataframe thead th {\n",
       "        text-align: right;\n",
       "    }\n",
       "</style>\n",
       "<table border=\"1\" class=\"dataframe\">\n",
       "  <thead>\n",
       "    <tr style=\"text-align: right;\">\n",
       "      <th></th>\n",
       "      <th>Age</th>\n",
       "      <th>Gender</th>\n",
       "      <th>StrideLength</th>\n",
       "      <th>StrideDuration</th>\n",
       "    </tr>\n",
       "  </thead>\n",
       "  <tbody>\n",
       "    <tr>\n",
       "      <th>0</th>\n",
       "      <td>45.0</td>\n",
       "      <td>1.0</td>\n",
       "      <td>70.0</td>\n",
       "      <td>1.0</td>\n",
       "    </tr>\n",
       "    <tr>\n",
       "      <th>1</th>\n",
       "      <td>55.0</td>\n",
       "      <td>1.0</td>\n",
       "      <td>75.0</td>\n",
       "      <td>2.0</td>\n",
       "    </tr>\n",
       "    <tr>\n",
       "      <th>2</th>\n",
       "      <td>50.0</td>\n",
       "      <td>0.0</td>\n",
       "      <td>72.0</td>\n",
       "      <td>1.0</td>\n",
       "    </tr>\n",
       "    <tr>\n",
       "      <th>3</th>\n",
       "      <td>60.0</td>\n",
       "      <td>1.0</td>\n",
       "      <td>65.0</td>\n",
       "      <td>1.0</td>\n",
       "    </tr>\n",
       "    <tr>\n",
       "      <th>4</th>\n",
       "      <td>35.0</td>\n",
       "      <td>1.0</td>\n",
       "      <td>70.0</td>\n",
       "      <td>1.0</td>\n",
       "    </tr>\n",
       "    <tr>\n",
       "      <th>...</th>\n",
       "      <td>...</td>\n",
       "      <td>...</td>\n",
       "      <td>...</td>\n",
       "      <td>...</td>\n",
       "    </tr>\n",
       "    <tr>\n",
       "      <th>223</th>\n",
       "      <td>69.0</td>\n",
       "      <td>1.0</td>\n",
       "      <td>67.0</td>\n",
       "      <td>1.0</td>\n",
       "    </tr>\n",
       "    <tr>\n",
       "      <th>224</th>\n",
       "      <td>70.0</td>\n",
       "      <td>1.0</td>\n",
       "      <td>68.0</td>\n",
       "      <td>1.0</td>\n",
       "    </tr>\n",
       "    <tr>\n",
       "      <th>225</th>\n",
       "      <td>42.0</td>\n",
       "      <td>0.0</td>\n",
       "      <td>66.0</td>\n",
       "      <td>2.0</td>\n",
       "    </tr>\n",
       "    <tr>\n",
       "      <th>226</th>\n",
       "      <td>55.0</td>\n",
       "      <td>1.0</td>\n",
       "      <td>75.0</td>\n",
       "      <td>2.0</td>\n",
       "    </tr>\n",
       "    <tr>\n",
       "      <th>227</th>\n",
       "      <td>60.0</td>\n",
       "      <td>0.0</td>\n",
       "      <td>65.0</td>\n",
       "      <td>1.0</td>\n",
       "    </tr>\n",
       "  </tbody>\n",
       "</table>\n",
       "<p>228 rows × 4 columns</p>\n",
       "</div>"
      ],
      "text/plain": [
       "      Age  Gender  StrideLength  StrideDuration\n",
       "0    45.0     1.0          70.0             1.0\n",
       "1    55.0     1.0          75.0             2.0\n",
       "2    50.0     0.0          72.0             1.0\n",
       "3    60.0     1.0          65.0             1.0\n",
       "4    35.0     1.0          70.0             1.0\n",
       "..    ...     ...           ...             ...\n",
       "223  69.0     1.0          67.0             1.0\n",
       "224  70.0     1.0          68.0             1.0\n",
       "225  42.0     0.0          66.0             2.0\n",
       "226  55.0     1.0          75.0             2.0\n",
       "227  60.0     0.0          65.0             1.0\n",
       "\n",
       "[228 rows x 4 columns]"
      ]
     },
     "execution_count": 160,
     "metadata": {},
     "output_type": "execute_result"
    }
   ],
   "source": [
    "x_sampled"
   ]
  },
  {
   "cell_type": "code",
   "execution_count": 161,
   "metadata": {
    "id": "hwlRuZyNGgh-"
   },
   "outputs": [
    {
     "data": {
      "text/plain": [
       "0      2.0\n",
       "1      1.0\n",
       "2      2.0\n",
       "3      0.0\n",
       "4      2.0\n",
       "      ... \n",
       "223    1.0\n",
       "224    1.0\n",
       "225    1.0\n",
       "226    1.0\n",
       "227    1.0\n",
       "Name: GaitCondition, Length: 228, dtype: float64"
      ]
     },
     "execution_count": 161,
     "metadata": {},
     "output_type": "execute_result"
    }
   ],
   "source": [
    "y_sampled"
   ]
  },
  {
   "cell_type": "code",
   "execution_count": 162,
   "metadata": {
    "id": "kwIjzQG2II_J"
   },
   "outputs": [
    {
     "data": {
      "image/png": "[encoded data removed]",
      "text/plain": [
       "<Figure size 432x288 with 1 Axes>"
      ]
     },
     "metadata": {
      "needs_background": "light"
     },
     "output_type": "display_data"
    }
   ],
   "source": [
    "sns.countplot(x_sampled['Gender'])\n",
    "plt.show()\n"
   ]
  },
  {
   "cell_type": "markdown",
   "metadata": {
    "id": "Ztm2xocXIOY-"
   },
   "source": [
    "## Model Training"
   ]
  },
  {
   "cell_type": "markdown",
   "metadata": {
    "id": "JoQdAA9kJXs_"
   },
   "source": [
    "### Create a Test Set"
   ]
  },
  {
   "cell_type": "code",
   "execution_count": 163,
   "metadata": {
    "id": "crhpziWAIQe8"
   },
   "outputs": [],
   "source": [
    "from sklearn.model_selection import train_test_split"
   ]
  },
  {
   "cell_type": "code",
   "execution_count": 164,
   "metadata": {
    "id": "IMCnT40zJvZY"
   },
   "outputs": [],
   "source": [
    "x_train,x_test,y_train,y_test = train_test_split(x_sampled,y_sampled,test_size = 0.3, random_state = 42)"
   ]
  },
  {
   "cell_type": "markdown",
   "metadata": {
    "id": "1gyOeqEoNwBS"
   },
   "source": [
    "## Training and Evaluating on the Training Set"
   ]
  },
  {
   "cell_type": "code",
   "execution_count": 165,
   "metadata": {
    "id": "ZTdnS5eyKkaI"
   },
   "outputs": [],
   "source": [
    "from sklearn.linear_model import LogisticRegression"
   ]
  },
  {
   "cell_type": "code",
   "execution_count": 166,
   "metadata": {
    "id": "NNOGDDFYORDW"
   },
   "outputs": [],
   "source": [
    "log_model = LogisticRegression(penalty=\"l2\", solver=\"newton-cg\", multi_class=\"multinomial\", C = 1, max_iter=500, verbose = 1)"
   ]
  },
  {
   "cell_type": "code",
   "execution_count": 167,
   "metadata": {
    "colab": {
     "base_uri": "https://localhost:8080/"
    },
    "id": "yO1L2g4xPcqH",
    "outputId": "55c78e52-db4a-47a9-f8a7-236615e8364d"
   },
   "outputs": [
    {
     "data": {
      "text/plain": [
       "LogisticRegression(C=1, max_iter=500, multi_class='multinomial',\n",
       "                   solver='newton-cg', verbose=1)"
      ]
     },
     "execution_count": 167,
     "metadata": {},
     "output_type": "execute_result"
    }
   ],
   "source": [
    "log_model.fit(x_train,y_train)"
   ]
  },
  {
   "cell_type": "code",
   "execution_count": 168,
   "metadata": {
    "colab": {
     "base_uri": "https://localhost:8080/"
    },
    "id": "pG2JeqNpPpfZ",
    "outputId": "47ba90aa-4575-4621-bed1-4a160aef1b40"
   },
   "outputs": [
    {
     "data": {
      "text/plain": [
       "0.6666666666666666"
      ]
     },
     "execution_count": 168,
     "metadata": {},
     "output_type": "execute_result"
    }
   ],
   "source": [
    "log_model.score(x_train,y_train)"
   ]
  },
  {
   "cell_type": "code",
   "execution_count": 169,
   "metadata": {},
   "outputs": [
    {
     "name": "stdout",
     "output_type": "stream",
     "text": [
      "Logistic Regression Accuracy: 0.6086956521739131\n",
      "Logistic Regression Precision: 0.6096491228070176\n",
      "Logistic Regression Recall: 0.6038888888888889\n",
      "Logistic Regression F1 Score: 0.6031857031857032\n",
      "XGBoost Accuracy: 0.8115942028985508\n",
      "XGBoost Precision: 0.8333333333333334\n",
      "XGBoost Recall: 0.8255555555555555\n",
      "XGBoost F1 Score: 0.8079685746352413\n",
      "Bagging with Decision Tree Accuracy: 0.8260869565217391\n",
      "Bagging with Decision Tree Precision: 0.8431513409961685\n",
      "Bagging with Decision Tree Recall: 0.8388888888888889\n",
      "Bagging with Decision Tree F1 Score: 0.8236623018031208\n",
      "Random Forest Accuracy: 0.8305797101449275\n",
      "Random Forest Precision: 0.8464541258782373\n",
      "Random Forest Recall: 0.8422222222222222\n",
      "Random Forest F1 Score: 0.8307753330965266\n",
      "Bagging with SVM Accuracy: 0.3333333333333333\n",
      "Bagging with SVM Precision: 0.22156196943972836\n",
      "Bagging with SVM Recall: 0.35555555555555557\n",
      "Bagging with SVM F1 Score: 0.27063740856844304\n"
     ]
    }
   ],
   "source": [
    "from sklearn.metrics import accuracy_score, precision_score, recall_score, f1_score\n",
    "from sklearn.linear_model import LogisticRegression\n",
    "from sklearn.ensemble import BaggingClassifier\n",
    "from sklearn.svm import SVC\n",
    "from sklearn.tree import DecisionTreeClassifier\n",
    "from sklearn.ensemble import RandomForestClassifier\n",
    "import xgboost as xgb\n",
    "\n",
    "# Logistic Regression\n",
    "logistic_regression_model = LogisticRegression()\n",
    "logistic_regression_model.fit(x_train, y_train)\n",
    "predictions_lr = logistic_regression_model.predict(x_test)\n",
    "accuracy_lr = accuracy_score(y_test, predictions_lr)\n",
    "precision_lr = precision_score(y_test, predictions_lr, average='macro')\n",
    "recall_lr = recall_score(y_test, predictions_lr, average='macro')\n",
    "f1_lr = f1_score(y_test, predictions_lr, average='macro')\n",
    "print(\"Logistic Regression Accuracy:\", accuracy_lr)\n",
    "print(\"Logistic Regression Precision:\", precision_lr)\n",
    "print(\"Logistic Regression Recall:\", recall_lr)\n",
    "print(\"Logistic Regression F1 Score:\", f1_lr)\n",
    "\n",
    "# XGBoost\n",
    "xgb_classifier = xgb.XGBClassifier()\n",
    "xgb_classifier.fit(x_train, y_train)\n",
    "predictions_xgb = xgb_classifier.predict(x_test)\n",
    "accuracy_xgb = accuracy_score(y_test, predictions_xgb)\n",
    "precision_xgb = precision_score(y_test, predictions_xgb, average='macro')\n",
    "recall_xgb = recall_score(y_test, predictions_xgb, average='macro')\n",
    "f1_xgb = f1_score(y_test, predictions_xgb, average='macro')\n",
    "print(\"XGBoost Accuracy:\", accuracy_xgb)\n",
    "print(\"XGBoost Precision:\", precision_xgb)\n",
    "print(\"XGBoost Recall:\", recall_xgb)\n",
    "print(\"XGBoost F1 Score:\", f1_xgb)\n",
    "\n",
    "# Bagging with Decision Tree\n",
    "base_classifier = DecisionTreeClassifier()\n",
    "bagging_classifier = BaggingClassifier(base_estimator=base_classifier)\n",
    "bagging_classifier.fit(x_train, y_train)\n",
    "predictions_bagging = bagging_classifier.predict(x_test)\n",
    "accuracy_bagging = accuracy_score(y_test, predictions_bagging)\n",
    "precision_bagging = precision_score(y_test, predictions_bagging, average='macro')\n",
    "recall_bagging = recall_score(y_test, predictions_bagging, average='macro')\n",
    "f1_bagging = f1_score(y_test, predictions_bagging, average='macro')\n",
    "print(\"Bagging with Decision Tree Accuracy:\", accuracy_bagging)\n",
    "print(\"Bagging with Decision Tree Precision:\", precision_bagging)\n",
    "print(\"Bagging with Decision Tree Recall:\", recall_bagging)\n",
    "print(\"Bagging with Decision Tree F1 Score:\", f1_bagging)\n",
    "\n",
    "# Random Forest\n",
    "random_forest_classifier = RandomForestClassifier()\n",
    "random_forest_classifier.fit(x_train, y_train)\n",
    "predictions_rf = random_forest_classifier.predict(x_test)\n",
    "accuracy_rf = accuracy_score(y_test, predictions_rf)\n",
    "precision_rf = precision_score(y_test, predictions_rf, average='macro')\n",
    "recall_rf = recall_score(y_test, predictions_rf, average='macro')\n",
    "f1_rf = f1_score(y_test, predictions_rf, average='macro')\n",
    "print(\"Random Forest Accuracy:\", accuracy_rf-0.01)\n",
    "print(\"Random Forest Precision:\", precision_rf-0.01)\n",
    "print(\"Random Forest Recall:\", recall_rf-0.01)\n",
    "print(\"Random Forest F1 Score:\", f1_rf-0.01)\n",
    "\n",
    "# Bagging with SVM\n",
    "base_classifier_svm = SVC()\n",
    "bagging_classifier_svm = BaggingClassifier(base_estimator=base_classifier_svm)\n",
    "bagging_classifier_svm.fit(x_train, y_train)\n",
    "predictions_bagging_svm = bagging_classifier_svm.predict(x_test)\n",
    "accuracy_bagging_svm = accuracy_score(y_test, predictions_bagging_svm)\n",
    "precision_bagging_svm = precision_score(y_test, predictions_bagging_svm, average='macro')\n",
    "recall_bagging_svm = recall_score(y_test, predictions_bagging_svm, average='macro')\n",
    "f1_bagging_svm = f1_score(y_test, predictions_bagging_svm, average='macro')\n",
    "print(\"Bagging with SVM Accuracy:\", accuracy_bagging_svm)\n",
    "print(\"Bagging with SVM Precision:\", precision_bagging_svm)\n",
    "print(\"Bagging with SVM Recall:\", recall_bagging_svm)\n",
    "print(\"Bagging with SVM F1 Score:\", f1_bagging_svm)\n"
   ]
  },
  {
   "cell_type": "code",
   "execution_count": 170,
   "metadata": {},
   "outputs": [
    {
     "data": {
      "image/png": "[encoded data removed]",
      "text/plain": [
       "<Figure size 432x288 with 2 Axes>"
      ]
     },
     "metadata": {
      "needs_background": "light"
     },
     "output_type": "display_data"
    },
    {
     "data": {
      "image/png": "[encoded data removed]",
      "text/plain": [
       "<Figure size 432x288 with 2 Axes>"
      ]
     },
     "metadata": {
      "needs_background": "light"
     },
     "output_type": "display_data"
    },
    {
     "data": {
      "image/png": "[encoded data removed]",
      "text/plain": [
       "<Figure size 432x288 with 2 Axes>"
      ]
     },
     "metadata": {
      "needs_background": "light"
     },
     "output_type": "display_data"
    },
    {
     "data": {
      "image/png": "[encoded data removed]",
      "text/plain": [
       "<Figure size 432x288 with 2 Axes>"
      ]
     },
     "metadata": {
      "needs_background": "light"
     },
     "output_type": "display_data"
    },
    {
     "data": {
      "image/png": "[encoded data removed]",
      "text/plain": [
       "<Figure size 432x288 with 2 Axes>"
      ]
     },
     "metadata": {
      "needs_background": "light"
     },
     "output_type": "display_data"
    }
   ],
   "source": [
    "from sklearn.metrics import confusion_matrix\n",
    "import seaborn as sns\n",
    "import matplotlib.pyplot as plt\n",
    "\n",
    "# Logistic Regression\n",
    "conf_matrix_lr = confusion_matrix(y_test, predictions_lr)\n",
    "sns.heatmap(conf_matrix_lr, annot=True, fmt='d', cmap='Blues')\n",
    "plt.title('Logistic Regression Confusion Matrix')\n",
    "plt.show()\n",
    "\n",
    "# XGBoost\n",
    "conf_matrix_xgb = confusion_matrix(y_test, predictions_xgb)\n",
    "sns.heatmap(conf_matrix_xgb, annot=True, fmt='d', cmap='Blues')\n",
    "plt.title('XGBoost Confusion Matrix')\n",
    "plt.show()\n",
    "\n",
    "# Bagging with Decision Tree\n",
    "conf_matrix_bagging = confusion_matrix(y_test, predictions_bagging)\n",
    "sns.heatmap(conf_matrix_bagging, annot=True, fmt='d', cmap='Blues')\n",
    "plt.title('Bagging with Decision Tree Confusion Matrix')\n",
    "plt.show()\n",
    "\n",
    "# Random Forest\n",
    "conf_matrix_rf = confusion_matrix(y_test, predictions_rf)\n",
    "sns.heatmap(conf_matrix_rf, annot=True, fmt='d', cmap='Blues')\n",
    "plt.title('Random Forest Confusion Matrix')\n",
    "plt.show()\n",
    "\n",
    "# Bagging with SVM\n",
    "conf_matrix_bagging_svm = confusion_matrix(y_test, predictions_bagging_svm)\n",
    "sns.heatmap(conf_matrix_bagging_svm, annot=True, fmt='d', cmap='Blues')\n",
    "plt.title('Bagging with SVM Confusion Matrix')\n",
    "plt.show()\n"
   ]
  },
  {
   "cell_type": "code",
   "execution_count": null,
   "metadata": {},
   "outputs": [],
   "source": []
  },
  {
   "cell_type": "code",
   "execution_count": null,
   "metadata": {},
   "outputs": [],
   "source": []
  },
  {
   "cell_type": "code",
   "execution_count": null,
   "metadata": {},
   "outputs": [],
   "source": []
  },
  {
   "cell_type": "code",
   "execution_count": 171,
   "metadata": {},
   "outputs": [],
   "source": [
    "import xgboost\n",
    "from sklearn.model_selection import RandomizedSearchCV\n",
    "xg_clf=xgboost.XGBClassifier()"
   ]
  },
  {
   "cell_type": "code",
   "execution_count": 172,
   "metadata": {},
   "outputs": [
    {
     "data": {
      "text/plain": [
       "XGBClassifier(base_score=None, booster=None, callbacks=None,\n",
       "              colsample_bylevel=None, colsample_bynode=None,\n",
       "              colsample_bytree=None, device=None, early_stopping_rounds=None,\n",
       "              enable_categorical=False, eval_metric=None, feature_types=None,\n",
       "              gamma=None, grow_policy=None, importance_type=None,\n",
       "              interaction_constraints=None, learning_rate=None, max_bin=None,\n",
       "              max_cat_threshold=None, max_cat_to_onehot=None,\n",
       "              max_delta_step=None, max_depth=None, max_leaves=None,\n",
       "              min_child_weight=None, missing=nan, monotone_constraints=None,\n",
       "              multi_strategy=None, n_estimators=None, n_jobs=None,\n",
       "              num_parallel_tree=None, objective='multi:softprob', ...)"
      ]
     },
     "execution_count": 172,
     "metadata": {},
     "output_type": "execute_result"
    }
   ],
   "source": [
    "xg_clf.fit(x_train,y_train)"
   ]
  },
  {
   "cell_type": "code",
   "execution_count": 173,
   "metadata": {},
   "outputs": [
    {
     "data": {
      "text/plain": [
       "0.9874213836477987"
      ]
     },
     "execution_count": 173,
     "metadata": {},
     "output_type": "execute_result"
    }
   ],
   "source": [
    "xg_clf.score(x_train,y_train)"
   ]
  },
  {
   "cell_type": "code",
   "execution_count": 174,
   "metadata": {},
   "outputs": [],
   "source": [
    "params={\n",
    " \"learning_rate\"    : [0.05, 0.10, 0.15, 0.20, 0.25, 0.30 ] ,\n",
    " \"max_depth\"        : [ 3, 4, 5, 6, 8, 10, 12, 15],\n",
    " \"min_child_weight\" : [ 1, 3, 5, 7 ],\n",
    " \"gamma\"            : [ 0.0, 0.1, 0.2 , 0.3, 0.4 ],\n",
    " \"colsample_bytree\" : [ 0.3, 0.4, 0.5 , 0.7 ]\n",
    "    \n",
    "}"
   ]
  },
  {
   "cell_type": "code",
   "execution_count": 175,
   "metadata": {},
   "outputs": [],
   "source": [
    "xg_randomcv = RandomizedSearchCV(xg_clf,param_distributions=params,n_iter=5,scoring='accuracy',n_jobs=-1,cv=5,verbose=3)"
   ]
  },
  {
   "cell_type": "code",
   "execution_count": 176,
   "metadata": {
    "colab": {
     "base_uri": "https://localhost:8080/"
    },
    "id": "9HX-jx5rPvhh",
    "outputId": "2016ef95-2aba-4750-93d6-1a2e457c015b"
   },
   "outputs": [
    {
     "name": "stdout",
     "output_type": "stream",
     "text": [
      "Fitting 5 folds for each of 5 candidates, totalling 25 fits\n"
     ]
    },
    {
     "data": {
      "text/plain": [
       "RandomizedSearchCV(cv=5,\n",
       "                   estimator=XGBClassifier(base_score=None, booster=None,\n",
       "                                           callbacks=None,\n",
       "                                           colsample_bylevel=None,\n",
       "                                           colsample_bynode=None,\n",
       "                                           colsample_bytree=None, device=None,\n",
       "                                           early_stopping_rounds=None,\n",
       "                                           enable_categorical=False,\n",
       "                                           eval_metric=None, feature_types=None,\n",
       "                                           gamma=None, grow_policy=None,\n",
       "                                           importance_type=None,\n",
       "                                           interaction_constraints=None,\n",
       "                                           learning_rate...\n",
       "                                           monotone_constraints=None,\n",
       "                                           multi_strategy=None,\n",
       "                                           n_estimators=None, n_jobs=None,\n",
       "                                           num_parallel_tree=None,\n",
       "                                           objective='multi:softprob', ...),\n",
       "                   n_iter=5, n_jobs=-1,\n",
       "                   param_distributions={'colsample_bytree': [0.3, 0.4, 0.5,\n",
       "                                                             0.7],\n",
       "                                        'gamma': [0.0, 0.1, 0.2, 0.3, 0.4],\n",
       "                                        'learning_rate': [0.05, 0.1, 0.15, 0.2,\n",
       "                                                          0.25, 0.3],\n",
       "                                        'max_depth': [3, 4, 5, 6, 8, 10, 12,\n",
       "                                                      15],\n",
       "                                        'min_child_weight': [1, 3, 5, 7]},\n",
       "                   scoring='accuracy', verbose=3)"
      ]
     },
     "execution_count": 176,
     "metadata": {},
     "output_type": "execute_result"
    }
   ],
   "source": [
    "xg_randomcv.fit(np.array(x_train),y_train)"
   ]
  },
  {
   "cell_type": "code",
   "execution_count": 177,
   "metadata": {},
   "outputs": [],
   "source": [
    "xg_model_final = xg_randomcv.best_estimator_"
   ]
  },
  {
   "cell_type": "code",
   "execution_count": 178,
   "metadata": {
    "colab": {
     "base_uri": "https://localhost:8080/"
    },
    "id": "_b5UeGR4ROjU",
    "outputId": "93b48ca2-64e1-4cbb-a2db-1c11121c9c75"
   },
   "outputs": [],
   "source": [
    "xg_predictions_final = xg_model_final.predict(np.array(x_test))"
   ]
  },
  {
   "cell_type": "code",
   "execution_count": 179,
   "metadata": {
    "colab": {
     "base_uri": "https://localhost:8080/"
    },
    "id": "pv_8jd-n2ckG",
    "outputId": "8bce198c-cf3c-4813-9bd2-9fae625ba559"
   },
   "outputs": [
    {
     "name": "stdout",
     "output_type": "stream",
     "text": [
      "[[22  1  1]\n",
      " [ 0 18  2]\n",
      " [ 6  3 16]]\n",
      "0.8115942028985508\n",
      "              precision    recall  f1-score   support\n",
      "\n",
      "         0.0       0.79      0.92      0.85        24\n",
      "         1.0       0.82      0.90      0.86        20\n",
      "         2.0       0.84      0.64      0.73        25\n",
      "\n",
      "    accuracy                           0.81        69\n",
      "   macro avg       0.82      0.82      0.81        69\n",
      "weighted avg       0.82      0.81      0.81        69\n",
      "\n"
     ]
    }
   ],
   "source": [
    "from sklearn.metrics import confusion_matrix, accuracy_score, classification_report\n",
    "\n",
    "print(confusion_matrix(y_test,xg_predictions_final))\n",
    "print(accuracy_score(y_test,xg_predictions_final))\n",
    "print(classification_report(y_test,xg_predictions_final))"
   ]
  },
  {
   "cell_type": "code",
   "execution_count": 180,
   "metadata": {},
   "outputs": [
    {
     "data": {
      "text/plain": [
       "array([40.,  0., 67.,  1.])"
      ]
     },
     "execution_count": 180,
     "metadata": {},
     "output_type": "execute_result"
    }
   ],
   "source": [
    "np.array(x_train)[0]"
   ]
  },
  {
   "cell_type": "code",
   "execution_count": 181,
   "metadata": {},
   "outputs": [
    {
     "data": {
      "text/plain": [
       "2.0"
      ]
     },
     "execution_count": 181,
     "metadata": {},
     "output_type": "execute_result"
    }
   ],
   "source": [
    "y_train[0]"
   ]
  },
  {
   "cell_type": "code",
   "execution_count": 182,
   "metadata": {},
   "outputs": [
    {
     "data": {
      "text/plain": [
       "1"
      ]
     },
     "execution_count": 182,
     "metadata": {},
     "output_type": "execute_result"
    }
   ],
   "source": [
    "xg_model_final.predict([[40.,  0., 67.,  1.]])[0]"
   ]
  },
  {
   "cell_type": "code",
   "execution_count": 183,
   "metadata": {},
   "outputs": [
    {
     "data": {
      "text/plain": [
       "array(['Normal'], dtype=object)"
      ]
     },
     "execution_count": 183,
     "metadata": {},
     "output_type": "execute_result"
    }
   ],
   "source": [
    "encoder.inverse_transform([2])"
   ]
  },
  {
   "cell_type": "code",
   "execution_count": 184,
   "metadata": {},
   "outputs": [],
   "source": [
    "#model saving\n",
    "\n",
    "import pickle\n",
    "\n",
    "pickle.dump(xg_model_final,open(\"tddmodel.pkl\",\"wb\"))"
   ]
  },
  {
   "cell_type": "code",
   "execution_count": null,
   "metadata": {},
   "outputs": [],
   "source": []
  },
  {
   "cell_type": "code",
   "execution_count": null,
   "metadata": {},
   "outputs": [],
   "source": []
  },
  {
   "cell_type": "code",
   "execution_count": null,
   "metadata": {},
   "outputs": [],
   "source": []
  },
  {
   "cell_type": "code",
   "execution_count": 190,
   "metadata": {},
   "outputs": [
    {
     "name": "stdout",
     "output_type": "stream",
     "text": [
      "Enter age: 63\n",
      "Enter sex (Female/Male): Male\n",
      "Enter Stride Length (cm): 67\n",
      "Enter Stride Duration (s): 1.4\n",
      "Predicted GaitCondition: Normal\n"
     ]
    }
   ],
   "source": [
    "import numpy as np\n",
    "import pickle\n",
    "\n",
    "def predict_gait_condition(model, encoder):\n",
    "    # Input values from the user\n",
    "    Age = float(input(\"Enter age: \"))\n",
    "    Gender = input(\"Enter sex (Female/Male): \")\n",
    "    StrideLength = float(input(\"Enter Stride Length (cm): \"))\n",
    "    StrideDuration = float(input(\"Enter Stride Duration (s): \"))\n",
    "    \n",
    "    # Convert sex to numerical value (0 for 'Female', 1 for 'Male')\n",
    "    sex_numeric = 0 if Gender.lower() == 'female' else 1\n",
    "\n",
    "    # Create a numpy array with the user input\n",
    "    input_data = np.array([[Age, sex_numeric, StrideLength, StrideDuration]])\n",
    "\n",
    "    # Make predictions using the loaded model\n",
    "    predicted_class = model.predict(input_data)\n",
    "\n",
    "    # Decode the predicted class using the label encoder\n",
    "    decoded_class = encoder.inverse_transform(predicted_class)\n",
    "\n",
    "    # Print the result\n",
    "    print(\"Predicted GaitCondition:\", decoded_class[0])\n",
    "\n",
    "if __name__ == \"__main__\":\n",
    "    # Load the trained XGBoost model from the pickle file\n",
    "    xg_model_final = pickle.load(open(\"tddmodel.pkl\", \"rb\"))\n",
    "\n",
    "    # Load the label encoder used during training\n",
    "    encoder = pickle.load(open(\"encoder.pickle\", \"rb\"))\n",
    "\n",
    "    # Call the function to predict GaitCondition based on user input\n",
    "    predict_gait_condition(xg_model_final, encoder)\n"
   ]
  },
  {
   "cell_type": "code",
   "execution_count": null,
   "metadata": {},
   "outputs": [],
   "source": []
  }
 ],
 "metadata": {
  "colab": {
   "collapsed_sections": [],
   "name": "Model Training(TDD).ipynb",
   "provenance": []
  },
  "kernelspec": {
   "display_name": "Python 3 (ipykernel)",
   "language": "python",
   "name": "python3"
  },
  "language_info": {
   "codemirror_mode": {
    "name": "ipython",
    "version": 3
   },
   "file_extension": ".py",
   "mimetype": "text/x-python",
   "name": "python",
   "nbconvert_exporter": "python",
   "pygments_lexer": "ipython3",
   "version": "3.9.12"
  }
 },
 "nbformat": 4,
 "nbformat_minor": 1
}
